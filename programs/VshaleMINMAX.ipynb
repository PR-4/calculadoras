{
 "cells": [
  {
   "cell_type": "markdown",
   "id": "a6d0df7e",
   "metadata": {
    "slideshow": {
     "slide_type": "slide"
    }
   },
   "source": [
    "# Calculando o volume de folhelho a partir de raios gama: modelos Larionov, Clavier e Stieber"
   ]
  },
  {
   "cell_type": "markdown",
   "id": "76e137fe",
   "metadata": {
    "slideshow": {
     "slide_type": "subslide"
    }
   },
   "source": [
    "A radioatividade natural das rochas origina-se, primariamente, de três fontes: do K40\n",
    "e dos elementos filhos do Urânio e do Tório. Os folhelhos são as rochas mais radioativas\n",
    "dentre as sedimentares. Cerca de 8% de toda a emissão radioativa dos folhelhos é\n",
    "devida ao K40 (Rider, 1990)."
   ]
  },
  {
   "cell_type": "markdown",
   "id": "3da9ecaa",
   "metadata": {
    "slideshow": {
     "slide_type": "slide"
    }
   },
   "source": [
    "A metodologia de cálculo da argilosidade de uma rocha (VSH = razão entre o\n",
    "volume de argila e o volume total investigado da amostra) com o perfil de RG, baseia-se\n",
    "no fato de que toda ela seja devida a presença exclusiva do K40, vez que os\n",
    "argilominerais originam-se da hidrólise das micas e dos feldspatos potássicos. Valores\n",
    "acima de 5 % de K2O foram observados nos arcósios, nos conglomerados policompostos\n",
    "e nos arenitos resultantes de depósitos em ambientes redutores (Cox et al, 1967)."
   ]
  },
  {
   "cell_type": "markdown",
   "id": "f2f93687",
   "metadata": {
    "slideshow": {
     "slide_type": "skip"
    }
   },
   "source": [
    "Portanto, nestas litologias, as altas radioatividades registradas pelos perfis de RG não\n",
    "representam, necessariamente, altas argilosidades, fato este que limita, e complica, seu\n",
    "uso como quantificador de VSH e identificador litológico."
   ]
  },
  {
   "cell_type": "markdown",
   "id": "595540bb",
   "metadata": {
    "slideshow": {
     "slide_type": "skip"
    }
   },
   "source": [
    "Excluindo-se as litologias citadas acima, e/ou mineralizações localizadas (na\n",
    "natureza, Po84, Rn86, Fr87, Ra88, Ac89, Pa91, Pu94, Am95 etc, representam muito menos que\n",
    "$1%$), todo aumento da radioatividade natural registrada pelos RG, implica em um\n",
    "aumento do teor de K40 e, portanto, da argilosidade. (Nery,1999)"
   ]
  },
  {
   "cell_type": "markdown",
   "id": "e12cb2b1",
   "metadata": {
    "slideshow": {
     "slide_type": "skip"
    }
   },
   "source": [
    "Estimar o volume de folhelho da rocha VSH linearmente a partir do perfil de raios gama ainda continua sendo a primeira abordagem preferida a se tornar com um indicador preliminar de folhelho. O procedimento é fácil e direto, e pode dar resultados razoáveis para alguns reservatórios profundos. A primeira equação mostrada abaixo define um índice de folhelho ativo IGR como uma função do sinal de log de raios gama GR: Ele só precisa registrar a resposta do log de raios gama para um corpo de folhelho conhecido próximo e uma rocha limpa conhecida nas proximidades."
   ]
  },
  {
   "cell_type": "markdown",
   "id": "237db69a",
   "metadata": {
    "slideshow": {
     "slide_type": "skip"
    }
   },
   "source": [
    "No entanto, muitas vezes o IGR produz uma superestimação do volume de folhelho da rocha (especialmente para reservatórios rasos e jovens), produzindo um cenário geral pessimista da qualidade do reservatório. Para superar isso, várias formulações empíricas foram desenvolvidas para corrigir e reduzir o volume de folhelho da rocha Vshale como funções diretas de IGR, ou seja, VSH = f (IGR), tentando ajustar a resposta radioativa total dos argilominerais."
   ]
  },
  {
   "cell_type": "markdown",
   "id": "e3e1c68e",
   "metadata": {
    "slideshow": {
     "slide_type": "skip"
    }
   },
   "source": [
    "Índice de raios gama (IGR) significa que ao medir o intervalo estratigráfico da idade Devoniana, o índice de raios gama em qualquer ponto deve ser calculado dividindo o valor do log de raios gama naquele ponto pelo valor do log de gama na linha de base do xisto estabelecida sobre o todo o intervalo de idade devoniano penetrado pelo poço. "
   ]
  },
  {
   "cell_type": "markdown",
   "id": "a2c0c31e",
   "metadata": {
    "slideshow": {
     "slide_type": "subslide"
    }
   },
   "source": [
    "Neste trabalho, optou-se por normalizar os valores de IGR, muito embora sendo da mesma natureza física, apresentam melhores valores em termos absolutos para futuros cálculos. Neste caso, $GR_{folhelho}$ passa a ser o substituído pelo $GR_{MAX}$ e o $GR_{limpo}$ passa a ser substituído pelo $GR_{MIN}$. A Equação abaixo apresenta essa adaptação para a normalização conhecida como $\\textbf{MINMAX}$."
   ]
  },
  {
   "cell_type": "markdown",
   "id": "8de3edb0",
   "metadata": {
    "slideshow": {
     "slide_type": "fragment"
    }
   },
   "source": [
    "$$\n",
    "VSH_{linearGRindex}=IGR=\\dfrac{GR_{log}-GR_{MIN}}{GR_{MAX}-GR_{MIN}}\n",
    "$$"
   ]
  },
  {
   "cell_type": "markdown",
   "id": "df96960f",
   "metadata": {
    "slideshow": {
     "slide_type": "subslide"
    }
   },
   "source": [
    "Ordenadas do indicador de xisto mais pessimista IGR (mais VSH), ao mais otimista, a equação Larionov VSH para rochas jovens e terciárias (menos VSH), as equações mostram o indicador Linear VSH IGR, o modelo Larionov para rochas mais antigas, o Modelo de Clavier, o modelo de Stieber e o modelo de Larionov para rochas terciárias:"
   ]
  },
  {
   "cell_type": "markdown",
   "id": "8fbe36b3",
   "metadata": {
    "slideshow": {
     "slide_type": "fragment"
    }
   },
   "source": [
    "$$\n",
    "VSH_{Larionov} = 0.33 (2^{(2 \\times IGR)}-1)\n",
    "$$\n",
    "$$\n",
    "VSH_{clavier} = 1.7 - \\sqrt{3.38-(IGR+0.7)^{2}}\n",
    "$$\n",
    "$$\n",
    "VSH_{Stieber} = \\dfrac{IGR}{3 -2  \\times IGR}\n",
    "$$"
   ]
  },
  {
   "cell_type": "markdown",
   "id": "43a834be",
   "metadata": {
    "slideshow": {
     "slide_type": "subslide"
    }
   },
   "source": [
    "Neste estudo eu irei, por questão de otimização de tempo implementar e testar o $VSH_{clavier}$,$VSH_{larionov}$ e $VSH_{stieber}$. "
   ]
  },
  {
   "cell_type": "code",
   "execution_count": 10,
   "id": "b6324ff9",
   "metadata": {
    "slideshow": {
     "slide_type": "skip"
    }
   },
   "outputs": [],
   "source": [
    "######################PACOTES##########################\n",
    "import sys\n",
    "import numpy as np\n",
    "import pandas as pd\n",
    "import matplotlib.pyplot as plt\n",
    "import logging\n",
    "import lasio\n",
    "import seaborn as sns\n",
    "sys.path.insert(0,'../modules')\n",
    "from graficador import plotagem as plm2\n",
    "#######################################################"
   ]
  },
  {
   "cell_type": "code",
   "execution_count": 2,
   "id": "e6f139ad",
   "metadata": {
    "slideshow": {
     "slide_type": "subslide"
    }
   },
   "outputs": [],
   "source": [
    "def igr(GR):\n",
    "    #Definidos através de normalização minmax\n",
    "    GRmin=min(GR)\n",
    "    GRmax=max(GR)\n",
    "    IGR = np.zeros(np.size(GR))\n",
    "    IGR = (GR-GRmin)/(GRmax-GRmin)\n",
    "    return IGR"
   ]
  },
  {
   "cell_type": "code",
   "execution_count": 3,
   "id": "dd54d926",
   "metadata": {
    "slideshow": {
     "slide_type": "subslide"
    }
   },
   "outputs": [],
   "source": [
    "def clavier(IGR):\n",
    "    VSH = np.zeros(np.size(IGR))\n",
    "    VSH = 1.7 - np.sqrt(3.38-(IGR+0.7)**2.0)\n",
    "    return VSH"
   ]
  },
  {
   "cell_type": "code",
   "execution_count": 4,
   "id": "3409a2da",
   "metadata": {
    "slideshow": {
     "slide_type": "subslide"
    }
   },
   "outputs": [],
   "source": [
    "def larionov(IGR):\n",
    "    VSH = np.zeros(np.size(IGR))\n",
    "    VSH = 0.33 * (2.0 ** (2.0 * IGR ) - 1.0 )\n",
    "    return VSH"
   ]
  },
  {
   "cell_type": "code",
   "execution_count": 5,
   "id": "428fc75d",
   "metadata": {
    "slideshow": {
     "slide_type": "subslide"
    }
   },
   "outputs": [],
   "source": [
    "def stieber(IGR):\n",
    "    VSH = np.zeros(np.size(IGR))\n",
    "    VSH = IGR / (3-2*(IGR))\n",
    "    return VSH"
   ]
  },
  {
   "cell_type": "markdown",
   "id": "a0cd42e9",
   "metadata": {
    "slideshow": {
     "slide_type": "slide"
    }
   },
   "source": [
    "# Dado de entrada"
   ]
  },
  {
   "cell_type": "code",
   "execution_count": 11,
   "id": "702bdf24",
   "metadata": {},
   "outputs": [
    {
     "name": "stdout",
     "output_type": "stream",
     "text": [
      "Start Depth (STRT): \t\t 2891.0\n",
      "Stop Depth (STOP): \t\t 6549.51\n",
      "Step (STEP): \t\t 0.1524\n",
      "Null Value (NULL): \t\t -99999.0\n",
      "Company (COMP): \t\t PETROLEO BRASILEIRO S/A\n",
      "Origem dos dados (ORIG): \t\t SIGEO EXPORTACAO PERFIL\n",
      "Well (WELL): \t\t 1SES 0173  SE\n",
      "Field (FLD): \t\t \n",
      "State (STAT): \t\t SERGIPE\n",
      "API Code (API): \t\t 901210520900\n",
      "API Code (UWI): \t\t 901210520900\n",
      "Surface X (XCOORD): \t\t 758643.0\n",
      "Surface Y (YCOORD): \t\t 8723117.0\n",
      "Horizontal Coordinate System (HZCS): \t\t UTM\n",
      "Meridiano Central (MC): \t\t 39 W\n",
      "Latitude (LAT): \t\t -11.541114\n",
      "Longitude (LONG): \t\t -36.62862\n",
      "Geodetic Datum (GDAT): \t\t SIRGAS2000\n",
      "Elevation Derrick Floor (EDF): \t\t 25.0\n",
      "Water Depth to Mean Sea Level (WDMS): \t\t 2820.0\n",
      "Curve: DEPT, \t Units: M, \t Description: Measured Depth\n",
      "Curve: COTA, \t Units: M, \t Description: Vertical Depth (without EKB)\n",
      "Curve: TVD, \t Units: M, \t Description: Vertical Depth\n",
      "Curve: COORDEW, \t Units: , \t Description: Coordinate East/West\n",
      "Curve: COORDNS, \t Units: , \t Description: Coordinate North/South\n",
      "Curve: BRGR, \t Units: gAPI, \t Description: RAIOS GAMA (COMPOSICAO DE CURVAS CABO E/OU LWD)\n",
      "Curve: BRNEUT, \t Units: %, \t Description: POROSIDADE NEUTRONICA (COMPOSICAO DE CURVAS CABO E/OU LWD)\n",
      "Curve: BRDENS, \t Units: g/cm3, \t Description: DENSIDADE (COMPOSICAO DE CURVAS CABO E/OU LWD )\n",
      "Curve: BRDTP, \t Units: us/ft, \t Description: SONICO COMPRESSIONAL (COMPOSICAO DE CURVAS CABO E/OU LWD)\n",
      "Curve: BRCALI, \t Units: in, \t Description: CALIPER (COMPOSICAO DE CURVAS CABO E/OU LWD)\n",
      "There are a total of: 10 curves present within this file\n"
     ]
    }
   ],
   "source": [
    "las = lasio.read(\"../inputs/1SES-0173--SE-.las\")\n",
    "las.sections.keys()\n",
    "las.sections['Version']\n",
    "for item in las.sections['Well']:\n",
    "    print(f\"{item.descr} ({item.mnemonic}): \\t\\t {item.value}\")\n",
    "    \n",
    "    \n",
    "las.sections['Well']['WELL'] = 'Brasil'\n",
    "\n",
    "for count, curve in enumerate(las.curves):\n",
    "    print(f\"Curve: {curve.mnemonic}, \\t Units: {curve.unit}, \\t Description: {curve.descr}\")\n",
    "print(f\"There are a total of: {count+1} curves present within this file\")"
   ]
  },
  {
   "cell_type": "code",
   "execution_count": 13,
   "id": "97bcd65f",
   "metadata": {
    "slideshow": {
     "slide_type": "subslide"
    }
   },
   "outputs": [],
   "source": [
    "#----------------------------------------------------------------------#\n",
    "# Leitura do data frame que contém os canais da perfilagem             #\n",
    "#----------------------------------------------------------------------#\n",
    "df = pd.read_csv(\"../inputs/1SES-0173--SE-.las\", sep='\\s+', skiprows=38,\n",
    "                 names=('Depth(m)','Cota','TVD','Lat','Long',\n",
    "                        'BRGR.gAPI','BRNEUT.%','BRDENS.g/cm3','BRDTP.us/ft','BRCALI.in'))"
   ]
  },
  {
   "cell_type": "code",
   "execution_count": 14,
   "id": "cd870b9f",
   "metadata": {
    "slideshow": {
     "slide_type": "subslide"
    }
   },
   "outputs": [],
   "source": [
    "#Filtra os Nan:\n",
    "df=df[(df['BRGR.gAPI'] != -99999.0)]"
   ]
  },
  {
   "cell_type": "code",
   "execution_count": 15,
   "id": "fe77e9d2",
   "metadata": {
    "slideshow": {
     "slide_type": "subslide"
    }
   },
   "outputs": [
    {
     "data": {
      "text/plain": [
       "Depth(m)        0\n",
       "Cota            0\n",
       "TVD             0\n",
       "Lat             0\n",
       "Long            0\n",
       "BRGR.gAPI       0\n",
       "BRNEUT.%        0\n",
       "BRDENS.g/cm3    0\n",
       "BRDTP.us/ft     0\n",
       "BRCALI.in       0\n",
       "dtype: int64"
      ]
     },
     "execution_count": 15,
     "metadata": {},
     "output_type": "execute_result"
    }
   ],
   "source": [
    "#identifica possível valores ausentes depois da filtragem:\n",
    "df.isnull().sum()"
   ]
  },
  {
   "cell_type": "code",
   "execution_count": 16,
   "id": "24fd5e73",
   "metadata": {
    "slideshow": {
     "slide_type": "subslide"
    }
   },
   "outputs": [
    {
     "data": {
      "text/html": [
       "<div>\n",
       "<style scoped>\n",
       "    .dataframe tbody tr th:only-of-type {\n",
       "        vertical-align: middle;\n",
       "    }\n",
       "\n",
       "    .dataframe tbody tr th {\n",
       "        vertical-align: top;\n",
       "    }\n",
       "\n",
       "    .dataframe thead th {\n",
       "        text-align: right;\n",
       "    }\n",
       "</style>\n",
       "<table border=\"1\" class=\"dataframe\">\n",
       "  <thead>\n",
       "    <tr style=\"text-align: right;\">\n",
       "      <th></th>\n",
       "      <th>Depth(m)</th>\n",
       "      <th>Cota</th>\n",
       "      <th>TVD</th>\n",
       "      <th>Lat</th>\n",
       "      <th>Long</th>\n",
       "      <th>BRGR.gAPI</th>\n",
       "      <th>BRNEUT.%</th>\n",
       "      <th>BRDENS.g/cm3</th>\n",
       "      <th>BRDTP.us/ft</th>\n",
       "      <th>BRCALI.in</th>\n",
       "    </tr>\n",
       "  </thead>\n",
       "  <tbody>\n",
       "    <tr>\n",
       "      <th>count</th>\n",
       "      <td>23866.000000</td>\n",
       "      <td>23866.000000</td>\n",
       "      <td>23866.000000</td>\n",
       "      <td>23866.000000</td>\n",
       "      <td>2.386600e+04</td>\n",
       "      <td>23866.000000</td>\n",
       "      <td>23866.000000</td>\n",
       "      <td>23866.000000</td>\n",
       "      <td>23866.000000</td>\n",
       "      <td>23866.000000</td>\n",
       "    </tr>\n",
       "    <tr>\n",
       "      <th>mean</th>\n",
       "      <td>4712.048155</td>\n",
       "      <td>-4686.638572</td>\n",
       "      <td>4711.638572</td>\n",
       "      <td>758648.617478</td>\n",
       "      <td>8.723143e+06</td>\n",
       "      <td>67.600666</td>\n",
       "      <td>-47200.220511</td>\n",
       "      <td>-47207.588226</td>\n",
       "      <td>-21343.250593</td>\n",
       "      <td>-46969.065615</td>\n",
       "    </tr>\n",
       "    <tr>\n",
       "      <th>std</th>\n",
       "      <td>1052.856133</td>\n",
       "      <td>1052.421415</td>\n",
       "      <td>1052.421415</td>\n",
       "      <td>9.147362</td>\n",
       "      <td>2.435301e+01</td>\n",
       "      <td>22.286808</td>\n",
       "      <td>49930.865537</td>\n",
       "      <td>49923.897661</td>\n",
       "      <td>41066.538674</td>\n",
       "      <td>49913.875362</td>\n",
       "    </tr>\n",
       "    <tr>\n",
       "      <th>min</th>\n",
       "      <td>2891.000000</td>\n",
       "      <td>-6508.668400</td>\n",
       "      <td>2890.999700</td>\n",
       "      <td>758639.080000</td>\n",
       "      <td>8.723117e+06</td>\n",
       "      <td>8.505300</td>\n",
       "      <td>-99999.000000</td>\n",
       "      <td>-99999.000000</td>\n",
       "      <td>-99999.000000</td>\n",
       "      <td>-99999.000000</td>\n",
       "    </tr>\n",
       "    <tr>\n",
       "      <th>25%</th>\n",
       "      <td>3800.256500</td>\n",
       "      <td>-5600.315925</td>\n",
       "      <td>3800.234800</td>\n",
       "      <td>758640.890000</td>\n",
       "      <td>8.723120e+06</td>\n",
       "      <td>53.322700</td>\n",
       "      <td>-99999.000000</td>\n",
       "      <td>-99999.000000</td>\n",
       "      <td>63.956325</td>\n",
       "      <td>-99999.000000</td>\n",
       "    </tr>\n",
       "    <tr>\n",
       "      <th>50%</th>\n",
       "      <td>4709.513000</td>\n",
       "      <td>-4684.385750</td>\n",
       "      <td>4709.385750</td>\n",
       "      <td>758642.850000</td>\n",
       "      <td>8.723133e+06</td>\n",
       "      <td>65.319600</td>\n",
       "      <td>4.747750</td>\n",
       "      <td>2.428500</td>\n",
       "      <td>80.904600</td>\n",
       "      <td>8.368950</td>\n",
       "    </tr>\n",
       "    <tr>\n",
       "      <th>75%</th>\n",
       "      <td>5626.084700</td>\n",
       "      <td>-3775.234800</td>\n",
       "      <td>5625.315925</td>\n",
       "      <td>758658.890000</td>\n",
       "      <td>8.723162e+06</td>\n",
       "      <td>83.074225</td>\n",
       "      <td>16.344850</td>\n",
       "      <td>2.600200</td>\n",
       "      <td>109.490100</td>\n",
       "      <td>8.740375</td>\n",
       "    </tr>\n",
       "    <tr>\n",
       "      <th>max</th>\n",
       "      <td>6535.341200</td>\n",
       "      <td>-2865.999700</td>\n",
       "      <td>6533.668400</td>\n",
       "      <td>758662.830000</td>\n",
       "      <td>8.723200e+06</td>\n",
       "      <td>461.944600</td>\n",
       "      <td>60.686200</td>\n",
       "      <td>2.857500</td>\n",
       "      <td>157.707700</td>\n",
       "      <td>18.094800</td>\n",
       "    </tr>\n",
       "  </tbody>\n",
       "</table>\n",
       "</div>"
      ],
      "text/plain": [
       "           Depth(m)          Cota           TVD            Lat          Long  \\\n",
       "count  23866.000000  23866.000000  23866.000000   23866.000000  2.386600e+04   \n",
       "mean    4712.048155  -4686.638572   4711.638572  758648.617478  8.723143e+06   \n",
       "std     1052.856133   1052.421415   1052.421415       9.147362  2.435301e+01   \n",
       "min     2891.000000  -6508.668400   2890.999700  758639.080000  8.723117e+06   \n",
       "25%     3800.256500  -5600.315925   3800.234800  758640.890000  8.723120e+06   \n",
       "50%     4709.513000  -4684.385750   4709.385750  758642.850000  8.723133e+06   \n",
       "75%     5626.084700  -3775.234800   5625.315925  758658.890000  8.723162e+06   \n",
       "max     6535.341200  -2865.999700   6533.668400  758662.830000  8.723200e+06   \n",
       "\n",
       "          BRGR.gAPI      BRNEUT.%  BRDENS.g/cm3   BRDTP.us/ft     BRCALI.in  \n",
       "count  23866.000000  23866.000000  23866.000000  23866.000000  23866.000000  \n",
       "mean      67.600666 -47200.220511 -47207.588226 -21343.250593 -46969.065615  \n",
       "std       22.286808  49930.865537  49923.897661  41066.538674  49913.875362  \n",
       "min        8.505300 -99999.000000 -99999.000000 -99999.000000 -99999.000000  \n",
       "25%       53.322700 -99999.000000 -99999.000000     63.956325 -99999.000000  \n",
       "50%       65.319600      4.747750      2.428500     80.904600      8.368950  \n",
       "75%       83.074225     16.344850      2.600200    109.490100      8.740375  \n",
       "max      461.944600     60.686200      2.857500    157.707700     18.094800  "
      ]
     },
     "execution_count": 16,
     "metadata": {},
     "output_type": "execute_result"
    }
   ],
   "source": [
    "#Analisa o canal GR\n",
    "df.describe()"
   ]
  },
  {
   "cell_type": "code",
   "execution_count": 17,
   "id": "a09d93e7",
   "metadata": {
    "slideshow": {
     "slide_type": "skip"
    }
   },
   "outputs": [],
   "source": [
    "#Vetoriza as variáveis\n",
    "prof=np.array(df['Depth(m)'])\n",
    "tvd=np.array(df['TVD'])\n",
    "GR=np.array(df['BRGR.gAPI'])"
   ]
  },
  {
   "cell_type": "markdown",
   "id": "6cef19d4",
   "metadata": {
    "slideshow": {
     "slide_type": "slide"
    }
   },
   "source": [
    "## Teste das funções"
   ]
  },
  {
   "cell_type": "code",
   "execution_count": 18,
   "id": "06f941c6",
   "metadata": {
    "slideshow": {
     "slide_type": "subslide"
    }
   },
   "outputs": [
    {
     "name": "stdout",
     "output_type": "stream",
     "text": [
      "[0.00893659 0.00809458 0.00768923 ... 0.16375709 0.16113645 0.15294859] 23866 23866\n",
      "<class 'numpy.ndarray'>\n"
     ]
    }
   ],
   "source": [
    "print(igr(GR),np.size(igr(GR)),np.size(GR))\n",
    "print(type(igr(GR)))"
   ]
  },
  {
   "cell_type": "code",
   "execution_count": 19,
   "id": "6803b709",
   "metadata": {
    "slideshow": {
     "slide_type": "subslide"
    }
   },
   "outputs": [
    {
     "name": "stdout",
     "output_type": "stream",
     "text": [
      "[0.00411371 0.00372394 0.00353646 ... 0.08410029 0.0825986  0.07794176] 23866 23866\n",
      "[0.0037073  0.00335564 0.00318653 ... 0.07706325 0.07567121 0.07135679] 23866 23866\n",
      "[0.00299672 0.00271283 0.00257628 ... 0.06127519 0.06017658 0.05677162] 23866 23866\n"
     ]
    }
   ],
   "source": [
    "#Calculando o índice de GR\n",
    "IGR = igr(GR)\n",
    "#Teste do Vshale:\n",
    "print(larionov(IGR),np.size(larionov(IGR)),np.size(IGR))\n",
    "print(clavier(IGR),np.size(clavier(IGR)),np.size(IGR))\n",
    "print(stieber(IGR),np.size(stieber(IGR)),np.size(IGR))"
   ]
  },
  {
   "cell_type": "code",
   "execution_count": 20,
   "id": "75a37490",
   "metadata": {
    "slideshow": {
     "slide_type": "subslide"
    }
   },
   "outputs": [
    {
     "data": {
      "image/png": "[encoded data removed]",
      "text/plain": [
       "<Figure size 1050x1050 with 4 Axes>"
      ]
     },
     "metadata": {},
     "output_type": "display_data"
    }
   ],
   "source": [
    "padrao={'comprimento':15,\n",
    "            'altura':15\n",
    "}\n",
    "#Desenha os plots\n",
    "figure2 = plm2(4, padrao)\n",
    "figure2.plot_s(0,GR,tvd,{'titulo':'GR \\n (ci/g)','cor':'k','descricao_x':'(b)'})\n",
    "figure2.plot_s(1,larionov(IGR),tvd,{'titulo':'Larionov \\n (Vshale$\\phi$)','cor':'k','descricao_x':'(c)'})\n",
    "figure2.plot_s(2,clavier(IGR),tvd,{'titulo':'Clavier \\n (Vshale$\\phi$)','cor':'k','descricao_x':'(d)'})\n",
    "figure2.plot_s(3,stieber(IGR),tvd,{'titulo':'Stieber \\n (Vshale$\\phi$)','cor':'k','descricao_x':'(e)'})\n",
    "#figure2.legenda({'ancoragem':(-0.3, 0.09, 3.0, -0.16),'colunas':2,'ordem':[0,1,2,3,4,5,6,7] })\n",
    "\n",
    "plt.savefig('../images/VSHALE173_minmax.pdf', dpi=30, bbox_inches = 'tight', transparent = True)"
   ]
  },
  {
   "cell_type": "code",
   "execution_count": 21,
   "id": "53c74f31",
   "metadata": {
    "slideshow": {
     "slide_type": "skip"
    }
   },
   "outputs": [],
   "source": [
    "#Salva em txt\n",
    "vshale = pd.DataFrame({'TVD':prof,'Larionov':larionov(IGR),'Clavier':clavier(IGR),'Stieber':stieber(IGR)})\n",
    "vshale.to_csv('../outputs/vshale173_minmax.txt', sep=' ', index=False) "
   ]
  },
  {
   "cell_type": "markdown",
   "id": "ababc5fa",
   "metadata": {
    "slideshow": {
     "slide_type": "slide"
    }
   },
   "source": [
    "# FIM"
   ]
  }
 ],
 "metadata": {
  "celltoolbar": "Slideshow",
  "kernelspec": {
   "display_name": "Python 3 (ipykernel)",
   "language": "python",
   "name": "python3"
  },
  "language_info": {
   "codemirror_mode": {
    "name": "ipython",
    "version": 3
   },
   "file_extension": ".py",
   "mimetype": "text/x-python",
   "name": "python",
   "nbconvert_exporter": "python",
   "pygments_lexer": "ipython3",
   "version": "3.9.7"
  },
  "varInspector": {
   "cols": {
    "lenName": 16,
    "lenType": 16,
    "lenVar": 40
   },
   "kernels_config": {
    "python": {
     "delete_cmd_postfix": "",
     "delete_cmd_prefix": "del ",
     "library": "var_list.py",
     "varRefreshCmd": "print(var_dic_list())"
    },
    "r": {
     "delete_cmd_postfix": ") ",
     "delete_cmd_prefix": "rm(",
     "library": "var_list.r",
     "varRefreshCmd": "cat(var_dic_list()) "
    }
   },
   "types_to_exclude": [
    "module",
    "function",
    "builtin_function_or_method",
    "instance",
    "_Feature"
   ],
   "window_display": false
  }
 },
 "nbformat": 4,
 "nbformat_minor": 5
}
