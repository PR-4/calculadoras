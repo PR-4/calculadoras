{
 "cells": [
  {
   "cell_type": "markdown",
   "id": "a6d0df7e",
   "metadata": {},
   "source": [
    "# Calculando o volume de folhelho a partir de raios gama: modelos Larionov, Clavier e Stieber"
   ]
  },
  {
   "cell_type": "markdown",
   "id": "e12cb2b1",
   "metadata": {},
   "source": [
    "Estimar o volume de folhelho da rocha VSH linearmente a partir do perfil de raios gama ainda continua sendo a primeira abordagem preferida a se tornar com um indicador preliminar de folhlelho. O procedimento é fácil e direto, e pode dar resultados razoáveis para alguns reservatórios profundos. A primeira equação mostrada abaixo define um índice de folhelho ativo IGR como uma função do sinal de log de raios gama GR: Ele só precisa registrar a resposta do log de raios gama para um corpo de folhelho conhecido próximo e uma rocha limpa conhecida nas proximidades."
   ]
  },
  {
   "cell_type": "markdown",
   "id": "237db69a",
   "metadata": {},
   "source": [
    "No entanto, muitas vezes o indicador de shaliness linear IGR produz uma superestimação do volume de folhelho da rocha (especialmente para reservatórios rasos e jovens), produzindo um cenário geral pessimista da qualidade do reservatório. Para superar isso, várias formulações empíricas foram desenvolvidas para corrigir e reduzir o volume de folhelho da rocha Vshale como funções diretas de IGR, ou seja, VSH = f (IGR), tentando ajustar a resposta radioativa total dos argilominerais."
   ]
  },
  {
   "cell_type": "markdown",
   "id": "8be49b71",
   "metadata": {},
   "source": [
    "Índice de raios gama (IGR) significa que ao medir o intervalo estratigráfico da idade Devoniana, o índice de raios gama em qualquer ponto deve ser calculado dividindo o valor do log de raios gama naquele ponto pelo valor do log de gama na linha de base do xisto estabelecida sobre o todo o intervalo de idade devoniano penetrado pelo poço."
   ]
  },
  {
   "cell_type": "markdown",
   "id": "5314a14c",
   "metadata": {},
   "source": [
    "$$\n",
    "VSH_{linearGRindex}=IGR=\\dfrac{GR_{log}-GR_{rochalimpa}}{GR_{folhelho}-GR_{rochalimpa}}\n",
    "$$"
   ]
  },
  {
   "cell_type": "code",
   "execution_count": null,
   "id": "eea5cae4",
   "metadata": {
    "scrolled": true
   },
   "outputs": [],
   "source": []
  },
  {
   "cell_type": "markdown",
   "id": "df96960f",
   "metadata": {},
   "source": [
    "Ordenadas do indicador de xisto mais pessimista IGR (mais VSH), ao mais otimista, a equação Larionov VSH para rochas jovens e terciárias (menos VSH), as equações mostram o indicador Linear VSH IGR, o modelo Larionov para rochas mais antigas, o Modelo de Clavier, o modelo de Stieber e o modelo de Larionov para rochas terciárias:"
   ]
  },
  {
   "cell_type": "markdown",
   "id": "8fbe36b3",
   "metadata": {},
   "source": [
    "$$\n",
    "VSH_{Larionov} = 0.33 (2^{(2 \\times IGR)}-1)\n",
    "$$\n",
    "$$\n",
    "VSH_{clavier} = 1.7 - \\sqrt{3.38-(IGR+0.7)^{2}}\n",
    "$$\n",
    "$$\n",
    "VSH_{Stieber} = \\dfrac{IGR}{3 -2  \\times IGR}\n",
    "$$"
   ]
  },
  {
   "cell_type": "markdown",
   "id": "43a834be",
   "metadata": {},
   "source": [
    "Neste estudo eu irei, por questão de otimização implementar e testar o $VSH_{clavier}$ indicado para rochas do terciário. "
   ]
  },
  {
   "cell_type": "code",
   "execution_count": 6,
   "id": "b6324ff9",
   "metadata": {},
   "outputs": [],
   "source": [
    "######################PACOTES##########################\n",
    "import sys\n",
    "import numpy as np\n",
    "import pandas as pd\n",
    "from pandas_profiling import ProfileReport\n",
    "import matplotlib.pyplot as plt\n",
    "import logging\n",
    "import seaborn as sns\n",
    "sys.path.insert(0,'../modules')\n",
    "from graficador import plotagem as plm2\n",
    "#######################################################"
   ]
  },
  {
   "cell_type": "code",
   "execution_count": 44,
   "id": "dd54d926",
   "metadata": {},
   "outputs": [],
   "source": [
    "def clavier(GR):\n",
    "    VSH = np.zeros(np.size(GR))\n",
    "    VSH = 1.7 - np.sqrt(3.38-(GR+0.7)**2)\n",
    "    return VSH"
   ]
  },
  {
   "cell_type": "code",
   "execution_count": 37,
   "id": "3409a2da",
   "metadata": {},
   "outputs": [],
   "source": [
    "def larionov(GR):\n",
    "    VSH = np.zeros(np.size(GR))\n",
    "    VSH = 0.33*(2**(2*GR)-1)\n",
    "    return VSH\n",
    "    "
   ]
  },
  {
   "cell_type": "code",
   "execution_count": 38,
   "id": "97bcd65f",
   "metadata": {},
   "outputs": [],
   "source": [
    "#----------------------------------------------------------------------#\n",
    "# Leitura do data frame que contém os canais da perfilagem             #\n",
    "#----------------------------------------------------------------------#\n",
    "df = pd.read_csv(\"../inputs/3SES-0189--SE-.las\", sep='\\s+', skiprows=46, \n",
    "                 names=('Depth(m)','Cota','TVD','Lat','Long','BRGR.gAPI','BRDENS.g/cm3','BRNEUT.%',\n",
    "                        'BRDTP.us/ft','BRCALI.in','URAN1','URAN2','TURT1','TURT2','THOR1','THOR2','POTA%1','POTA%2'))"
   ]
  },
  {
   "cell_type": "code",
   "execution_count": 39,
   "id": "fe6c210f",
   "metadata": {},
   "outputs": [],
   "source": [
    "#Filtra os Nan:\n",
    "df=df[(df['BRGR.gAPI'] != -99999.0)]\n",
    "df=df[(df['BRDENS.g/cm3'] != -99999.0)]\n",
    "df=df[(df['BRNEUT.%'] != -99999.0)]\n",
    "df=df[(df['URAN2'] != -99999.0)]\n",
    "#df=df[(df['BRCALI.in'] != -99999.0)]\n",
    "#df=df[(df['HURA'] != -99999.0)]"
   ]
  },
  {
   "cell_type": "code",
   "execution_count": 40,
   "id": "b4397704",
   "metadata": {},
   "outputs": [
    {
     "data": {
      "text/plain": [
       "Depth(m)        0\n",
       "Cota            0\n",
       "TVD             0\n",
       "Lat             0\n",
       "Long            0\n",
       "BRGR.gAPI       0\n",
       "BRDENS.g/cm3    0\n",
       "BRNEUT.%        0\n",
       "BRDTP.us/ft     0\n",
       "BRCALI.in       0\n",
       "URAN1           0\n",
       "URAN2           0\n",
       "TURT1           0\n",
       "TURT2           0\n",
       "THOR1           0\n",
       "THOR2           0\n",
       "POTA%1          0\n",
       "POTA%2          0\n",
       "dtype: int64"
      ]
     },
     "execution_count": 40,
     "metadata": {},
     "output_type": "execute_result"
    }
   ],
   "source": [
    "#identifica possível valores ausentes depois da filtragem:\n",
    "df.isnull().sum()"
   ]
  },
  {
   "cell_type": "code",
   "execution_count": 41,
   "id": "0f3f4ac8",
   "metadata": {},
   "outputs": [
    {
     "data": {
      "text/html": [
       "<div>\n",
       "<style scoped>\n",
       "    .dataframe tbody tr th:only-of-type {\n",
       "        vertical-align: middle;\n",
       "    }\n",
       "\n",
       "    .dataframe tbody tr th {\n",
       "        vertical-align: top;\n",
       "    }\n",
       "\n",
       "    .dataframe thead th {\n",
       "        text-align: right;\n",
       "    }\n",
       "</style>\n",
       "<table border=\"1\" class=\"dataframe\">\n",
       "  <thead>\n",
       "    <tr style=\"text-align: right;\">\n",
       "      <th></th>\n",
       "      <th>Depth(m)</th>\n",
       "      <th>Cota</th>\n",
       "      <th>TVD</th>\n",
       "      <th>Lat</th>\n",
       "      <th>Long</th>\n",
       "      <th>BRGR.gAPI</th>\n",
       "      <th>BRDENS.g/cm3</th>\n",
       "      <th>BRNEUT.%</th>\n",
       "      <th>BRDTP.us/ft</th>\n",
       "      <th>BRCALI.in</th>\n",
       "      <th>URAN1</th>\n",
       "      <th>URAN2</th>\n",
       "      <th>TURT1</th>\n",
       "      <th>TURT2</th>\n",
       "      <th>THOR1</th>\n",
       "      <th>THOR2</th>\n",
       "      <th>POTA%1</th>\n",
       "      <th>POTA%2</th>\n",
       "    </tr>\n",
       "  </thead>\n",
       "  <tbody>\n",
       "    <tr>\n",
       "      <th>count</th>\n",
       "      <td>1030.000000</td>\n",
       "      <td>1030.000000</td>\n",
       "      <td>1030.000000</td>\n",
       "      <td>1030.000000</td>\n",
       "      <td>1.030000e+03</td>\n",
       "      <td>1030.000000</td>\n",
       "      <td>1030.000000</td>\n",
       "      <td>1030.000000</td>\n",
       "      <td>1030.000000</td>\n",
       "      <td>1030.000000</td>\n",
       "      <td>1030.000000</td>\n",
       "      <td>1030.000000</td>\n",
       "      <td>1030.000000</td>\n",
       "      <td>1030.000000</td>\n",
       "      <td>1030.000000</td>\n",
       "      <td>1030.000000</td>\n",
       "      <td>1030.000000</td>\n",
       "      <td>1030.000000</td>\n",
       "    </tr>\n",
       "    <tr>\n",
       "      <th>mean</th>\n",
       "      <td>5405.250600</td>\n",
       "      <td>-5376.372408</td>\n",
       "      <td>5404.372408</td>\n",
       "      <td>773281.807883</td>\n",
       "      <td>8.754819e+06</td>\n",
       "      <td>51.859652</td>\n",
       "      <td>2.542087</td>\n",
       "      <td>12.250114</td>\n",
       "      <td>77.547828</td>\n",
       "      <td>-66014.538041</td>\n",
       "      <td>-69901.831091</td>\n",
       "      <td>2.910615</td>\n",
       "      <td>2.168679</td>\n",
       "      <td>-69901.315621</td>\n",
       "      <td>5.228210</td>\n",
       "      <td>-69901.412929</td>\n",
       "      <td>1.398885</td>\n",
       "      <td>-69902.083284</td>\n",
       "    </tr>\n",
       "    <tr>\n",
       "      <th>std</th>\n",
       "      <td>45.335905</td>\n",
       "      <td>45.313649</td>\n",
       "      <td>45.313649</td>\n",
       "      <td>1.124990</td>\n",
       "      <td>8.649202e-01</td>\n",
       "      <td>30.376971</td>\n",
       "      <td>0.095437</td>\n",
       "      <td>6.480206</td>\n",
       "      <td>12.456782</td>\n",
       "      <td>47392.733417</td>\n",
       "      <td>45890.413607</td>\n",
       "      <td>1.926822</td>\n",
       "      <td>1.103728</td>\n",
       "      <td>45891.199562</td>\n",
       "      <td>2.914933</td>\n",
       "      <td>45891.051189</td>\n",
       "      <td>0.909047</td>\n",
       "      <td>45890.029066</td>\n",
       "    </tr>\n",
       "    <tr>\n",
       "      <th>min</th>\n",
       "      <td>5326.840800</td>\n",
       "      <td>-5454.745500</td>\n",
       "      <td>5326.000800</td>\n",
       "      <td>773279.920000</td>\n",
       "      <td>8.754818e+06</td>\n",
       "      <td>10.398000</td>\n",
       "      <td>2.352200</td>\n",
       "      <td>2.307200</td>\n",
       "      <td>54.459400</td>\n",
       "      <td>-99999.000000</td>\n",
       "      <td>-99999.000000</td>\n",
       "      <td>0.223400</td>\n",
       "      <td>0.217400</td>\n",
       "      <td>-99999.000000</td>\n",
       "      <td>0.845600</td>\n",
       "      <td>-99999.000000</td>\n",
       "      <td>0.095000</td>\n",
       "      <td>-99999.000000</td>\n",
       "    </tr>\n",
       "    <tr>\n",
       "      <th>25%</th>\n",
       "      <td>5366.045700</td>\n",
       "      <td>-5415.560000</td>\n",
       "      <td>5365.185275</td>\n",
       "      <td>773280.840000</td>\n",
       "      <td>8.754818e+06</td>\n",
       "      <td>20.486650</td>\n",
       "      <td>2.456175</td>\n",
       "      <td>6.988025</td>\n",
       "      <td>70.031675</td>\n",
       "      <td>-99999.000000</td>\n",
       "      <td>-99999.000000</td>\n",
       "      <td>1.285100</td>\n",
       "      <td>1.444100</td>\n",
       "      <td>-99999.000000</td>\n",
       "      <td>2.426725</td>\n",
       "      <td>-99999.000000</td>\n",
       "      <td>0.488650</td>\n",
       "      <td>-99999.000000</td>\n",
       "    </tr>\n",
       "    <tr>\n",
       "      <th>50%</th>\n",
       "      <td>5405.250600</td>\n",
       "      <td>-5376.371200</td>\n",
       "      <td>5404.371200</td>\n",
       "      <td>773281.775000</td>\n",
       "      <td>8.754819e+06</td>\n",
       "      <td>49.988250</td>\n",
       "      <td>2.560300</td>\n",
       "      <td>11.390800</td>\n",
       "      <td>75.072200</td>\n",
       "      <td>-99999.000000</td>\n",
       "      <td>-99999.000000</td>\n",
       "      <td>2.688550</td>\n",
       "      <td>1.906800</td>\n",
       "      <td>-99999.000000</td>\n",
       "      <td>5.046050</td>\n",
       "      <td>-99999.000000</td>\n",
       "      <td>1.342650</td>\n",
       "      <td>-99999.000000</td>\n",
       "    </tr>\n",
       "    <tr>\n",
       "      <th>75%</th>\n",
       "      <td>5444.455500</td>\n",
       "      <td>-5337.185275</td>\n",
       "      <td>5443.560000</td>\n",
       "      <td>773282.750000</td>\n",
       "      <td>8.754820e+06</td>\n",
       "      <td>76.317225</td>\n",
       "      <td>2.625200</td>\n",
       "      <td>16.555250</td>\n",
       "      <td>82.821050</td>\n",
       "      <td>12.363575</td>\n",
       "      <td>0.488775</td>\n",
       "      <td>4.069700</td>\n",
       "      <td>2.655650</td>\n",
       "      <td>1.502800</td>\n",
       "      <td>7.222700</td>\n",
       "      <td>1.740900</td>\n",
       "      <td>2.141300</td>\n",
       "      <td>0.222000</td>\n",
       "    </tr>\n",
       "    <tr>\n",
       "      <th>max</th>\n",
       "      <td>5483.660400</td>\n",
       "      <td>-5298.000800</td>\n",
       "      <td>5482.745500</td>\n",
       "      <td>773283.850000</td>\n",
       "      <td>8.754821e+06</td>\n",
       "      <td>139.291500</td>\n",
       "      <td>2.703500</td>\n",
       "      <td>31.125500</td>\n",
       "      <td>118.211400</td>\n",
       "      <td>12.583000</td>\n",
       "      <td>19.167100</td>\n",
       "      <td>10.395800</td>\n",
       "      <td>6.920300</td>\n",
       "      <td>8.458800</td>\n",
       "      <td>13.316300</td>\n",
       "      <td>8.048800</td>\n",
       "      <td>3.416300</td>\n",
       "      <td>2.028500</td>\n",
       "    </tr>\n",
       "  </tbody>\n",
       "</table>\n",
       "</div>"
      ],
      "text/plain": [
       "          Depth(m)         Cota          TVD            Lat          Long  \\\n",
       "count  1030.000000  1030.000000  1030.000000    1030.000000  1.030000e+03   \n",
       "mean   5405.250600 -5376.372408  5404.372408  773281.807883  8.754819e+06   \n",
       "std      45.335905    45.313649    45.313649       1.124990  8.649202e-01   \n",
       "min    5326.840800 -5454.745500  5326.000800  773279.920000  8.754818e+06   \n",
       "25%    5366.045700 -5415.560000  5365.185275  773280.840000  8.754818e+06   \n",
       "50%    5405.250600 -5376.371200  5404.371200  773281.775000  8.754819e+06   \n",
       "75%    5444.455500 -5337.185275  5443.560000  773282.750000  8.754820e+06   \n",
       "max    5483.660400 -5298.000800  5482.745500  773283.850000  8.754821e+06   \n",
       "\n",
       "         BRGR.gAPI  BRDENS.g/cm3     BRNEUT.%  BRDTP.us/ft     BRCALI.in  \\\n",
       "count  1030.000000   1030.000000  1030.000000  1030.000000   1030.000000   \n",
       "mean     51.859652      2.542087    12.250114    77.547828 -66014.538041   \n",
       "std      30.376971      0.095437     6.480206    12.456782  47392.733417   \n",
       "min      10.398000      2.352200     2.307200    54.459400 -99999.000000   \n",
       "25%      20.486650      2.456175     6.988025    70.031675 -99999.000000   \n",
       "50%      49.988250      2.560300    11.390800    75.072200 -99999.000000   \n",
       "75%      76.317225      2.625200    16.555250    82.821050     12.363575   \n",
       "max     139.291500      2.703500    31.125500   118.211400     12.583000   \n",
       "\n",
       "              URAN1        URAN2        TURT1         TURT2        THOR1  \\\n",
       "count   1030.000000  1030.000000  1030.000000   1030.000000  1030.000000   \n",
       "mean  -69901.831091     2.910615     2.168679 -69901.315621     5.228210   \n",
       "std    45890.413607     1.926822     1.103728  45891.199562     2.914933   \n",
       "min   -99999.000000     0.223400     0.217400 -99999.000000     0.845600   \n",
       "25%   -99999.000000     1.285100     1.444100 -99999.000000     2.426725   \n",
       "50%   -99999.000000     2.688550     1.906800 -99999.000000     5.046050   \n",
       "75%        0.488775     4.069700     2.655650      1.502800     7.222700   \n",
       "max       19.167100    10.395800     6.920300      8.458800    13.316300   \n",
       "\n",
       "              THOR2       POTA%1        POTA%2  \n",
       "count   1030.000000  1030.000000   1030.000000  \n",
       "mean  -69901.412929     1.398885 -69902.083284  \n",
       "std    45891.051189     0.909047  45890.029066  \n",
       "min   -99999.000000     0.095000 -99999.000000  \n",
       "25%   -99999.000000     0.488650 -99999.000000  \n",
       "50%   -99999.000000     1.342650 -99999.000000  \n",
       "75%        1.740900     2.141300      0.222000  \n",
       "max        8.048800     3.416300      2.028500  "
      ]
     },
     "execution_count": 41,
     "metadata": {},
     "output_type": "execute_result"
    }
   ],
   "source": [
    "#Analisa a presença de valores negativos em GR\n",
    "df.describe()"
   ]
  },
  {
   "cell_type": "code",
   "execution_count": 42,
   "id": "65f6689d",
   "metadata": {},
   "outputs": [],
   "source": [
    "#Vetoriza as variáveis\n",
    "prof=np.array(df['Depth(m)'])\n",
    "tvd=np.array(df['TVD'])\n",
    "potassio=np.array(df['POTA%1'])\n",
    "thorio=np.array(df['THOR1'])\n",
    "ThU=np.array(df['TURT1'])\n",
    "Uranio=np.array(df['URAN2'])\n",
    "cali=np.array(df['BRCALI.in'])\n",
    "dens=np.array(df['BRDENS.g/cm3'])\n",
    "vel=np.array(df['BRDTP.us/ft'])\n",
    "GR=np.array(df['BRGR.gAPI'])\n",
    "neutrao=np.array(df['BRNEUT.%'])"
   ]
  },
  {
   "cell_type": "markdown",
   "id": "6cef19d4",
   "metadata": {},
   "source": [
    "## Teste das funções"
   ]
  },
  {
   "cell_type": "code",
   "execution_count": 43,
   "id": "e830d5bd",
   "metadata": {},
   "outputs": [
    {
     "name": "stdout",
     "output_type": "stream",
     "text": [
      "[1.78235545e+09 6.17617302e+08 1.91628636e+08 ... 7.09754378e+22\n",
      " 7.50855638e+25 5.36287811e+26] 1030 1030\n",
      "[-15.26520982 -14.5054238  -13.66697249 ... -37.79741082 -42.81608001\n",
      " -44.23310738] 1030 1030\n"
     ]
    }
   ],
   "source": [
    "print(larionov(GR),np.size(larionov(GR)),np.size(GR))\n",
    "print(clavier(GR),np.size(clavier(GR)),np.size(GR))"
   ]
  },
  {
   "cell_type": "code",
   "execution_count": 18,
   "id": "7c5d3c82",
   "metadata": {},
   "outputs": [],
   "source": [
    "#report = ProfileReport(df)\n",
    "#report.to_notebook_iframe()"
   ]
  }
 ],
 "metadata": {
  "kernelspec": {
   "display_name": "Python 3 (ipykernel)",
   "language": "python",
   "name": "python3"
  },
  "language_info": {
   "codemirror_mode": {
    "name": "ipython",
    "version": 3
   },
   "file_extension": ".py",
   "mimetype": "text/x-python",
   "name": "python",
   "nbconvert_exporter": "python",
   "pygments_lexer": "ipython3",
   "version": "3.9.7"
  }
 },
 "nbformat": 4,
 "nbformat_minor": 5
}
